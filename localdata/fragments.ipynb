{
 "cells": [
  {
   "cell_type": "code",
   "execution_count": 33,
   "metadata": {},
   "outputs": [],
   "source": [
    "from copy import copy, deepcopy\n",
    "\n",
    "from graphql import build_ast_schema, parse, print_ast, validate\n",
    "from graphql.language.ast import (\n",
    "    Document, Field, FragmentDefinition, FragmentSpread, InlineFragment, OperationDefinition, \n",
    "    SelectionSet\n",
    ")\n",
    "from graphql.language.visitor import Visitor, visit\n",
    "from pprint import pprint\n",
    "\n",
    "from graphql_compiler.tests.test_helpers import SCHEMA_TEXT"
   ]
  },
  {
   "cell_type": "code",
   "execution_count": 3,
   "metadata": {},
   "outputs": [],
   "source": [
    "schema = build_ast_schema(parse(SCHEMA_TEXT))"
   ]
  },
  {
   "cell_type": "code",
   "execution_count": 44,
   "metadata": {},
   "outputs": [
    {
     "data": {
      "text/plain": [
       "[]"
      ]
     },
     "execution_count": 44,
     "metadata": {},
     "output_type": "execute_result"
    }
   ],
   "source": [
    "query = '''\n",
    "{\n",
    "    Animal {\n",
    "        name @output(out_name: \"parent_name\")\n",
    "        \n",
    "        out_Animal_ParentOf {\n",
    "            uuid @output(out_name: \"child_id\")\n",
    "            ...commonFields\n",
    "            color @output(out_name: \"child_color\")\n",
    "        }\n",
    "    }\n",
    "}\n",
    "\n",
    "fragment commonFields on Animal {\n",
    "    name @output(out_name: \"animal_name\")\n",
    "    birthday @output(out_name: \"animal_birthday\")\n",
    "    \n",
    "    out_Entity_Related {\n",
    "        name @output(out_name: \"related_entity\")\n",
    "    }\n",
    "}\n",
    "'''\n",
    "parsed_ast = parse(query)\n",
    "validation_errors = validate(schema, parsed_ast)\n",
    "validation_errors"
   ]
  },
  {
   "cell_type": "code",
   "execution_count": 45,
   "metadata": {},
   "outputs": [
    {
     "name": "stdout",
     "output_type": "stream",
     "text": [
      "[OperationDefinition(operation='query', name=None, variable_definitions=None, directives=[], selection_set=SelectionSet(selections=[Field(alias=None, name=Name(value='Animal'), arguments=[], directives=[], selection_set=SelectionSet(selections=[Field(alias=None, name=Name(value='name'), arguments=[], directives=[Directive(name=Name(value='output'), arguments=[Argument(name=Name(value='out_name'), value=StringValue(value='parent_name'))])], selection_set=None), Field(alias=None, name=Name(value='out_Animal_ParentOf'), arguments=[], directives=[], selection_set=SelectionSet(selections=[Field(alias=None, name=Name(value='uuid'), arguments=[], directives=[Directive(name=Name(value='output'), arguments=[Argument(name=Name(value='out_name'), value=StringValue(value='child_id'))])], selection_set=None), FragmentSpread(name=Name(value='commonFields'), directives=[]), Field(alias=None, name=Name(value='color'), arguments=[], directives=[Directive(name=Name(value='output'), arguments=[Argument(name=Name(value='out_name'), value=StringValue(value='child_color'))])], selection_set=None)]))]))])),\n",
      " FragmentDefinition(name=Name(value='commonFields'), type_condition=NamedType(name=Name(value='Animal')), directives=[], selection_set=SelectionSet(selections=[Field(alias=None, name=Name(value='name'), arguments=[], directives=[Directive(name=Name(value='output'), arguments=[Argument(name=Name(value='out_name'), value=StringValue(value='animal_name'))])], selection_set=None), Field(alias=None, name=Name(value='birthday'), arguments=[], directives=[Directive(name=Name(value='output'), arguments=[Argument(name=Name(value='out_name'), value=StringValue(value='animal_birthday'))])], selection_set=None), Field(alias=None, name=Name(value='out_Entity_Related'), arguments=[], directives=[], selection_set=SelectionSet(selections=[Field(alias=None, name=Name(value='name'), arguments=[], directives=[Directive(name=Name(value='output'), arguments=[Argument(name=Name(value='out_name'), value=StringValue(value='related_entity'))])], selection_set=None)]))]))]\n"
     ]
    }
   ],
   "source": [
    "pprint(parsed_ast.definitions)"
   ]
  },
  {
   "cell_type": "code",
   "execution_count": 46,
   "metadata": {},
   "outputs": [],
   "source": [
    "def _get_query_and_fragment_definitions(query_ast):\n",
    "    query_operation_ast = None\n",
    "    fragment_definition_asts = {}\n",
    "    \n",
    "    for definition_ast in query_ast.definitions:\n",
    "        if isinstance(definition_ast, OperationDefinition):\n",
    "            assert definition_ast.operation == 'query'\n",
    "            query_operation_ast = definition_ast\n",
    "        elif isinstance(definition_ast, FragmentDefinition):\n",
    "            fragment_name = definition_ast.name.value\n",
    "            fragment_definition_asts[fragment_name] = definition_ast.selection_set.selections\n",
    "        else:\n",
    "            pprint(definition_ast)\n",
    "            assert False\n",
    "    \n",
    "    return query_operation_ast, fragment_definition_asts\n",
    "\n",
    "\n",
    "class FragmentSpreadExpansionVisitor(Visitor):\n",
    "    def __init__(self, fragment_selections):\n",
    "        super(Visitor, self).__init__()\n",
    "        self.fragment_selections = fragment_selections\n",
    "        \n",
    "    def enter_Field(self, node, *args):\n",
    "        made_changes = False\n",
    "        if node.selection_set is not None:\n",
    "            new_selections = []\n",
    "            for selection_ast in node.selection_set.selections:\n",
    "                if isinstance(selection_ast, FragmentSpread):\n",
    "                    made_changes = True\n",
    "                    fragment_name = selection_ast.name.value\n",
    "                    fragment_selections = self.fragment_selections[fragment_name]\n",
    "                    \n",
    "                    # TODO(predrag): Handle fragment field merging. We probably want the same\n",
    "                    #                logic as https://github.com/graphql/graphql-spec/issues/399\n",
    "                    #                The current code will break if both the query definition\n",
    "                    #                and the fragment use the same edge.\n",
    "                    new_selections.extend(deepcopy(fragment_selections))\n",
    "                else:\n",
    "                    new_selections.append(selection_ast)\n",
    "        \n",
    "        if not made_changes:\n",
    "            return None\n",
    "        \n",
    "        new_selections.sort(key=lambda x: x.selection_set is not None)\n",
    "        new_field = copy(node)\n",
    "        new_field.selection_set = SelectionSet(new_selections)\n",
    "        return new_field\n",
    "            \n",
    "\n",
    "def expand_fragment_spreads(query_ast):\n",
    "    query_operation_ast, fragment_selections = _get_query_and_fragment_definitions(query_ast)\n",
    "    \n",
    "    expansion_visitor = FragmentSpreadExpansionVisitor(fragment_selections)\n",
    "    return visit(query_operation_ast, expansion_visitor)"
   ]
  },
  {
   "cell_type": "code",
   "execution_count": 47,
   "metadata": {},
   "outputs": [
    {
     "name": "stdout",
     "output_type": "stream",
     "text": [
      "{\n",
      "  Animal {\n",
      "    name @output(out_name: \"parent_name\")\n",
      "    out_Animal_ParentOf {\n",
      "      uuid @output(out_name: \"child_id\")\n",
      "      name @output(out_name: \"animal_name\")\n",
      "      birthday @output(out_name: \"animal_birthday\")\n",
      "      color @output(out_name: \"child_color\")\n",
      "      out_Entity_Related {\n",
      "        name @output(out_name: \"related_entity\")\n",
      "      }\n",
      "    }\n",
      "  }\n",
      "}\n"
     ]
    }
   ],
   "source": [
    "expanded_ast = expand_fragment_spreads(parsed_ast)\n",
    "print(print_ast(expanded_ast))"
   ]
  }
 ],
 "metadata": {
  "kernelspec": {
   "display_name": "Python 3",
   "language": "python",
   "name": "python3"
  },
  "language_info": {
   "codemirror_mode": {
    "name": "ipython",
    "version": 3
   },
   "file_extension": ".py",
   "mimetype": "text/x-python",
   "name": "python",
   "nbconvert_exporter": "python",
   "pygments_lexer": "ipython3",
   "version": "3.6.8"
  }
 },
 "nbformat": 4,
 "nbformat_minor": 4
}
